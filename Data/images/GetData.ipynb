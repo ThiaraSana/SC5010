{
 "cells": [
  {
   "cell_type": "code",
   "execution_count": 7,
   "id": "ce3b863a",
   "metadata": {},
   "outputs": [],
   "source": [
    "import os\n",
    "import skimage.io as io\n",
    "import numpy as np\n",
    "import pandas as pd\n",
    "import glob"
   ]
  },
  {
   "cell_type": "code",
   "execution_count": 3,
   "id": "9e6f0882",
   "metadata": {},
   "outputs": [
    {
     "data": {
      "text/html": [
       "<div>\n",
       "<style scoped>\n",
       "    .dataframe tbody tr th:only-of-type {\n",
       "        vertical-align: middle;\n",
       "    }\n",
       "\n",
       "    .dataframe tbody tr th {\n",
       "        vertical-align: top;\n",
       "    }\n",
       "\n",
       "    .dataframe thead th {\n",
       "        text-align: right;\n",
       "    }\n",
       "</style>\n",
       "<table border=\"1\" class=\"dataframe\">\n",
       "  <thead>\n",
       "    <tr style=\"text-align: right;\">\n",
       "      <th></th>\n",
       "      <th>Unnamed: 0</th>\n",
       "      <th>image</th>\n",
       "      <th>species</th>\n",
       "      <th>individual_id</th>\n",
       "      <th>whale_dolphin</th>\n",
       "    </tr>\n",
       "  </thead>\n",
       "  <tbody>\n",
       "    <tr>\n",
       "      <th>0</th>\n",
       "      <td>23496</td>\n",
       "      <td>769c0e19d53924.jpg</td>\n",
       "      <td>blue_whale</td>\n",
       "      <td>69054c51f384</td>\n",
       "      <td>whale</td>\n",
       "    </tr>\n",
       "    <tr>\n",
       "      <th>1</th>\n",
       "      <td>11397</td>\n",
       "      <td>39baf4a4db09dd.jpg</td>\n",
       "      <td>blue_whale</td>\n",
       "      <td>0dc7fcfe4a6a</td>\n",
       "      <td>whale</td>\n",
       "    </tr>\n",
       "    <tr>\n",
       "      <th>2</th>\n",
       "      <td>5049</td>\n",
       "      <td>19489efab37d29.jpg</td>\n",
       "      <td>blue_whale</td>\n",
       "      <td>fe5ee1fcceb5</td>\n",
       "      <td>whale</td>\n",
       "    </tr>\n",
       "    <tr>\n",
       "      <th>3</th>\n",
       "      <td>46371</td>\n",
       "      <td>e94d60cf4aca9f.jpg</td>\n",
       "      <td>blue_whale</td>\n",
       "      <td>b899531f0c89</td>\n",
       "      <td>whale</td>\n",
       "    </tr>\n",
       "    <tr>\n",
       "      <th>4</th>\n",
       "      <td>6653</td>\n",
       "      <td>212590495cc399.jpg</td>\n",
       "      <td>blue_whale</td>\n",
       "      <td>6b97232b6be4</td>\n",
       "      <td>whale</td>\n",
       "    </tr>\n",
       "  </tbody>\n",
       "</table>\n",
       "</div>"
      ],
      "text/plain": [
       "   Unnamed: 0               image     species individual_id whale_dolphin\n",
       "0       23496  769c0e19d53924.jpg  blue_whale  69054c51f384         whale\n",
       "1       11397  39baf4a4db09dd.jpg  blue_whale  0dc7fcfe4a6a         whale\n",
       "2        5049  19489efab37d29.jpg  blue_whale  fe5ee1fcceb5         whale\n",
       "3       46371  e94d60cf4aca9f.jpg  blue_whale  b899531f0c89         whale\n",
       "4        6653  212590495cc399.jpg  blue_whale  6b97232b6be4         whale"
      ]
     },
     "execution_count": 3,
     "metadata": {},
     "output_type": "execute_result"
    }
   ],
   "source": [
    "targets = pd.read_csv('final.csv')\n",
    "targets.head()"
   ]
  },
  {
   "cell_type": "code",
   "execution_count": 4,
   "id": "3003019a",
   "metadata": {},
   "outputs": [
    {
     "data": {
      "text/plain": [
       "blue_whale            500\n",
       "humpback_whale        500\n",
       "beluga                500\n",
       "dusky_dolphin         500\n",
       "false_killer_whale    500\n",
       "bottlenose_dolphin    500\n",
       "Name: species, dtype: int64"
      ]
     },
     "execution_count": 4,
     "metadata": {},
     "output_type": "execute_result"
    }
   ],
   "source": [
    "targets['species'].value_counts()"
   ]
  },
  {
   "cell_type": "code",
   "execution_count": 5,
   "id": "66b78f69",
   "metadata": {},
   "outputs": [],
   "source": [
    "imagenames = targets['image'].to_list()\n",
    "species = targets['species'].to_list()"
   ]
  },
  {
   "cell_type": "code",
   "execution_count": 8,
   "id": "f4a240cc",
   "metadata": {},
   "outputs": [
    {
     "name": "stderr",
     "output_type": "stream",
     "text": [
      "C:\\Users\\THIARA~1\\AppData\\Local\\Temp/ipykernel_15204/2688098976.py:16: UserWarning: ./Final/BottlenoseDolphin/4b30d031f6405c.jpg is a low contrast image\n",
      "  io.imsave(SavingPath + \"BottlenoseDolphin/\" + imagenames[i], img)\n"
     ]
    }
   ],
   "source": [
    "Path = \"./train_images/\"\n",
    "SavingPath = \"./Final/\"\n",
    "for i in range(0, len(imagenames)):\n",
    "    img = io.imread(Path + imagenames[i])\n",
    "    if species[i] == \"blue_whale\":\n",
    "        io.imsave(SavingPath + \"BlueWhale/\" + imagenames[i], img)\n",
    "    elif species[i] == \"humpback_whale\":\n",
    "        io.imsave(SavingPath + \"HumpbackWhale/\" + imagenames[i], img)\n",
    "    elif species[i] == \"beluga\":\n",
    "        io.imsave(SavingPath + \"Beluga/\" + imagenames[i], img)\n",
    "    elif species[i] == \"dusky_dolphin\":\n",
    "        io.imsave(SavingPath + \"DuskyDolphin/\" + imagenames[i], img)\n",
    "    elif species[i] == \"false_killer_whale\":\n",
    "        io.imsave(SavingPath + \"FalseKillerWhale/\" + imagenames[i], img)\n",
    "    elif species[i] == \"bottlenose_dolphin\":\n",
    "        io.imsave(SavingPath + \"BottlenoseDolphin/\" + imagenames[i], img)\n",
    "    else:\n",
    "        print(\"image \" + imagenames[i] + \" \" + species + \" not found\")\n",
    "    "
   ]
  },
  {
   "cell_type": "code",
   "execution_count": null,
   "id": "98246f1d",
   "metadata": {},
   "outputs": [],
   "source": []
  }
 ],
 "metadata": {
  "kernelspec": {
   "display_name": "Python 3 (ipykernel)",
   "language": "python",
   "name": "python3"
  },
  "language_info": {
   "codemirror_mode": {
    "name": "ipython",
    "version": 3
   },
   "file_extension": ".py",
   "mimetype": "text/x-python",
   "name": "python",
   "nbconvert_exporter": "python",
   "pygments_lexer": "ipython3",
   "version": "3.9.7"
  }
 },
 "nbformat": 4,
 "nbformat_minor": 5
}
