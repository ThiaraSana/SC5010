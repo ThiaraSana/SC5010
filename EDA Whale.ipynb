{
 "cells": [
  {
   "cell_type": "code",
   "execution_count": 43,
   "metadata": {},
   "outputs": [],
   "source": [
    "# Basic Libraries\n",
    "import numpy as np\n",
    "import pandas as pd\n",
    "import seaborn as sb\n",
    "from collections import Counter\n",
    "import matplotlib.pyplot as plt\n",
    "sb.set()"
   ]
  },
  {
   "cell_type": "markdown",
   "metadata": {},
   "source": [
    "# Introduction"
   ]
  },
  {
   "attachments": {},
   "cell_type": "markdown",
   "metadata": {},
   "source": [
    "Happywhale is a NGO founded in 2015 with a mission to increase global understanding and caring for marine environments. Their main activities include monitoring, photographing, and identifying whale species around the world for conservation purposes. Volunteers around the world uploads thousands of pictures of whales, which are then manually identified by humans in a very time-consuming process. \n",
    "\n",
    "The Kaggle competition was established to build an automated process for identification, saving thousands of manual labor and improving accuracy. Our scope for the mini-project is to use neural networks, to help identify the species show in the photo."
   ]
  },
  {
   "cell_type": "markdown",
   "metadata": {},
   "source": [
    "We'll start of by importing the original training set provided by the facilitator of the competion: "
   ]
  },
  {
   "cell_type": "code",
   "execution_count": 48,
   "metadata": {},
   "outputs": [],
   "source": [
    "data = pd.read_csv('train.csv')"
   ]
  },
  {
   "cell_type": "markdown",
   "metadata": {},
   "source": [
    "The dataset is very significant, with more than 50k entries. We'll have a closer look at the distribution of data within the dataframe:"
   ]
  },
  {
   "cell_type": "code",
   "execution_count": 50,
   "metadata": {},
   "outputs": [
    {
     "data": {
      "text/plain": [
       "image            51033\n",
       "species          51033\n",
       "individual_id    51033\n",
       "dtype: int64"
      ]
     },
     "execution_count": 50,
     "metadata": {},
     "output_type": "execute_result"
    }
   ],
   "source": [
    "data.count()"
   ]
  },
  {
   "cell_type": "code",
   "execution_count": 76,
   "metadata": {},
   "outputs": [
    {
     "name": "stdout",
     "output_type": "stream",
     "text": [
      "Train samples count:  51033\n"
     ]
    },
    {
     "data": {
      "text/plain": [
       "Index(['image', 'species', 'individual_id', 'whale_dolphin'], dtype='object')"
      ]
     },
     "execution_count": 76,
     "metadata": {},
     "output_type": "execute_result"
    }
   ],
   "source": [
    "print('Train samples count: ', len(data))\n",
    "data.columns"
   ]
  },
  {
   "cell_type": "markdown",
   "metadata": {},
   "source": [
    "For now, the dataset consists of 30 different species and more than 15k individual ID's for whales and dolphins - that is the total amount of unique individuals that have been identified. For the scope of this project, we won't attempt to predict the individual ID but instead just the species."
   ]
  },
  {
   "cell_type": "code",
   "execution_count": 68,
   "metadata": {},
   "outputs": [
    {
     "name": "stdout",
     "output_type": "stream",
     "text": [
      "Species Count:  30\n"
     ]
    },
    {
     "data": {
      "text/plain": [
       "bottlenose_dolphin           9664\n",
       "beluga                       7443\n",
       "humpback_whale               7392\n",
       "blue_whale                   4830\n",
       "false_killer_whale           3326\n",
       "dusky_dolphin                3139\n",
       "spinner_dolphin              1700\n",
       "melon_headed_whale           1689\n",
       "minke_whale                  1608\n",
       "killer_whale                 1493\n",
       "fin_whale                    1324\n",
       "gray_whale                   1123\n",
       "bottlenose_dolpin            1117\n",
       "kiler_whale                   962\n",
       "southern_right_whale          866\n",
       "spotted_dolphin               490\n",
       "sei_whale                     428\n",
       "short_finned_pilot_whale      367\n",
       "common_dolphin                347\n",
       "cuviers_beaked_whale          341\n",
       "pilot_whale                   262\n",
       "long_finned_pilot_whale       238\n",
       "white_sided_dolphin           229\n",
       "brydes_whale                  154\n",
       "pantropic_spotted_dolphin     145\n",
       "globis                        116\n",
       "commersons_dolphin             90\n",
       "pygmy_killer_whale             76\n",
       "rough_toothed_dolphin          60\n",
       "frasiers_dolphin               14\n",
       "Name: species, dtype: int64"
      ]
     },
     "execution_count": 68,
     "metadata": {},
     "output_type": "execute_result"
    }
   ],
   "source": [
    "print('Species Count: ',len(data['species'].value_counts()))\n",
    "data['species'].value_counts()"
   ]
  },
  {
   "cell_type": "markdown",
   "metadata": {},
   "source": [
    "Data cleaning: We identified a couple of duplicates in the dataset. Furthermore we grouped some of the same species that had been seperated under synonyms."
   ]
  },
  {
   "cell_type": "markdown",
   "metadata": {},
   "source": [
    "\n",
    "bottlenose_dolpin -> bottlenose_dolphin\n",
    "kiler_whale -> killer_whale\n",
    "beluga -> beluga_whale\n",
    "\n",
    "\n",
    "globis & pilot_whale -> short_finned_pilot_whale"
   ]
  },
  {
   "cell_type": "code",
   "execution_count": 69,
   "metadata": {},
   "outputs": [],
   "source": [
    "data.species.replace({\"globis\": \"short_finned_pilot_whale\",\n",
    "                          \"pilot_whale\": \"short_finned_pilot_whale\",\n",
    "                          \"kiler_whale\": \"killer_whale\",\n",
    "                          \"bottlenose_dolpin\": \"bottlenose_dolphin\"}, inplace=True)"
   ]
  },
  {
   "cell_type": "markdown",
   "metadata": {},
   "source": [
    "This brings our new count of individual species down to 26 total. "
   ]
  },
  {
   "cell_type": "code",
   "execution_count": 75,
   "metadata": {},
   "outputs": [
    {
     "data": {
      "text/html": [
       "<div>\n",
       "<style scoped>\n",
       "    .dataframe tbody tr th:only-of-type {\n",
       "        vertical-align: middle;\n",
       "    }\n",
       "\n",
       "    .dataframe tbody tr th {\n",
       "        vertical-align: top;\n",
       "    }\n",
       "\n",
       "    .dataframe thead th {\n",
       "        text-align: right;\n",
       "    }\n",
       "</style>\n",
       "<table border=\"1\" class=\"dataframe\">\n",
       "  <thead>\n",
       "    <tr style=\"text-align: right;\">\n",
       "      <th></th>\n",
       "      <th>image</th>\n",
       "      <th>species</th>\n",
       "      <th>individual_id</th>\n",
       "      <th>whale_dolphin</th>\n",
       "    </tr>\n",
       "  </thead>\n",
       "  <tbody>\n",
       "    <tr>\n",
       "      <th>0</th>\n",
       "      <td>00021adfb725ed.jpg</td>\n",
       "      <td>melon_headed_whale</td>\n",
       "      <td>cadddb1636b9</td>\n",
       "      <td>dolphin</td>\n",
       "    </tr>\n",
       "    <tr>\n",
       "      <th>1</th>\n",
       "      <td>000562241d384d.jpg</td>\n",
       "      <td>humpback_whale</td>\n",
       "      <td>1a71fbb72250</td>\n",
       "      <td>whale</td>\n",
       "    </tr>\n",
       "    <tr>\n",
       "      <th>2</th>\n",
       "      <td>0007c33415ce37.jpg</td>\n",
       "      <td>false_killer_whale</td>\n",
       "      <td>60008f293a2b</td>\n",
       "      <td>dolphin</td>\n",
       "    </tr>\n",
       "    <tr>\n",
       "      <th>3</th>\n",
       "      <td>0007d9bca26a99.jpg</td>\n",
       "      <td>bottlenose_dolphin</td>\n",
       "      <td>4b00fe572063</td>\n",
       "      <td>dolphin</td>\n",
       "    </tr>\n",
       "    <tr>\n",
       "      <th>4</th>\n",
       "      <td>00087baf5cef7a.jpg</td>\n",
       "      <td>humpback_whale</td>\n",
       "      <td>8e5253662392</td>\n",
       "      <td>whale</td>\n",
       "    </tr>\n",
       "  </tbody>\n",
       "</table>\n",
       "</div>"
      ],
      "text/plain": [
       "                image             species individual_id whale_dolphin\n",
       "0  00021adfb725ed.jpg  melon_headed_whale  cadddb1636b9       dolphin\n",
       "1  000562241d384d.jpg      humpback_whale  1a71fbb72250         whale\n",
       "2  0007c33415ce37.jpg  false_killer_whale  60008f293a2b       dolphin\n",
       "3  0007d9bca26a99.jpg  bottlenose_dolphin  4b00fe572063       dolphin\n",
       "4  00087baf5cef7a.jpg      humpback_whale  8e5253662392         whale"
      ]
     },
     "execution_count": 75,
     "metadata": {},
     "output_type": "execute_result"
    }
   ],
   "source": [
    "whale_species = [\"humpback_whale\", \"beluga\", \"blue_whale\", \"fin_whale\", \"southern_right_whale\",\n",
    "                \"gray_whale\", \"minke_whale\", \"cuviers_beaked_whale\", \"sei_whale\", \"brydes_whale\"]\n",
    "\n",
    "data[\"whale_dolphin\"] = [\"whale\" if x in whale_species else \"dolphin\" for x in data.species]\n",
    "data.head()"
   ]
  },
  {
   "cell_type": "markdown",
   "metadata": {},
   "source": [
    "The overall distribution of whales to dolphins seem to be relatively equal, with around 25-26k of each. "
   ]
  },
  {
   "cell_type": "code",
   "execution_count": 18,
   "metadata": {},
   "outputs": [
    {
     "data": {
      "text/plain": [
       "<AxesSubplot:xlabel='count', ylabel='whale_dolphin'>"
      ]
     },
     "execution_count": 18,
     "metadata": {},
     "output_type": "execute_result"
    },
    {
     "data": {
      "image/png": "[encoded data removed]",
      "text/plain": [
       "<Figure size 576x432 with 1 Axes>"
      ]
     },
     "metadata": {},
     "output_type": "display_data"
    }
   ],
   "source": [
    "plt.figure(figsize = (8,6))\n",
    "sb.countplot(y = 'whale_dolphin', data = data, orient = \"h\")"
   ]
  },
  {
   "attachments": {},
   "cell_type": "markdown",
   "metadata": {},
   "source": [
    "Below we visualized the imbalance of the different species. As we see below, the , the dataset has a heavy class imbalance, with counts of species varying from +10.000 to just 14. With a dataset this unbalanced, it will become challenging to perform machine learning. The standard approach of under-sampling won’t be applicable, as our dataset would then be too small. Oversampling would be possible to some extend through image augmentation, but the class imbalance is too extreme in this case. Furthermore, this would result in an even bigger dataset, which is not favourable. So far this has pointed us in the direction of using (deep learning). "
   ]
  },
  {
   "cell_type": "code",
   "execution_count": 19,
   "metadata": {},
   "outputs": [
    {
     "data": {
      "text/plain": [
       "<AxesSubplot:xlabel='count', ylabel='species'>"
      ]
     },
     "execution_count": 19,
     "metadata": {},
     "output_type": "execute_result"
    },
    {
     "data": {
      "image/png": "[encoded data removed]",
      "text/plain": [
       "<Figure size 720x432 with 1 Axes>"
      ]
     },
     "metadata": {},
     "output_type": "display_data"
    }
   ],
   "source": [
    "plt.figure(figsize = (10,6))\n",
    "sb.countplot(y = 'species', data = data, orient = \"h\")"
   ]
  },
  {
   "cell_type": "code",
   "execution_count": 20,
   "metadata": {},
   "outputs": [
    {
     "name": "stdout",
     "output_type": "stream",
     "text": [
      "bottlenose_dolphin           10781\n",
      "beluga                        7443\n",
      "humpback_whale                7392\n",
      "blue_whale                    4830\n",
      "false_killer_whale            3326\n",
      "dusky_dolphin                 3139\n",
      "killer_whale                  2455\n",
      "spinner_dolphin               1700\n",
      "melon_headed_whale            1689\n",
      "minke_whale                   1608\n",
      "fin_whale                     1324\n",
      "gray_whale                    1123\n",
      "southern_right_whale           866\n",
      "short_finned_pilot_whale       745\n",
      "spotted_dolphin                490\n",
      "sei_whale                      428\n",
      "common_dolphin                 347\n",
      "cuviers_beaked_whale           341\n",
      "long_finned_pilot_whale        238\n",
      "white_sided_dolphin            229\n",
      "brydes_whale                   154\n",
      "pantropic_spotted_dolphin      145\n",
      "commersons_dolphin              90\n",
      "pygmy_killer_whale              76\n",
      "rough_toothed_dolphin           60\n",
      "frasiers_dolphin                14\n",
      "Name: species, dtype: int64\n"
     ]
    }
   ],
   "source": [
    "test = data['species'].value_counts()\n",
    "print(test)"
   ]
  },
  {
   "cell_type": "markdown",
   "metadata": {},
   "source": [
    "First we chose to sort out some of the least frequent species in the dataset. "
   ]
  },
  {
   "cell_type": "code",
   "execution_count": 21,
   "metadata": {},
   "outputs": [],
   "source": [
    "values = [\"frasiers_dolphin\", \"rough_toothed_dolphin\", \"pygmy_killer_whale\", \"commersons_dolphin\", \"pantropic_spotted_dolphin\", \"brydes_whale\", \"white_sided_dolphin\", \"long_finned_pilot_whale\"]\n",
    "\n",
    "#drop rows that contain any value in the list\n",
    "df = data[data.species.isin(values) == False]"
   ]
  },
  {
   "cell_type": "markdown",
   "metadata": {},
   "source": [
    "Even though we have now removed some of the least frequent, we still have approimately the same size dataset. Since the original training set takes up approx. 57GB we don't consider it feasible to use the whole set."
   ]
  },
  {
   "cell_type": "code",
   "execution_count": 22,
   "metadata": {},
   "outputs": [
    {
     "name": "stdout",
     "output_type": "stream",
     "text": [
      "bottlenose_dolphin          10781\n",
      "beluga                       7443\n",
      "humpback_whale               7392\n",
      "blue_whale                   4830\n",
      "false_killer_whale           3326\n",
      "dusky_dolphin                3139\n",
      "killer_whale                 2455\n",
      "spinner_dolphin              1700\n",
      "melon_headed_whale           1689\n",
      "minke_whale                  1608\n",
      "fin_whale                    1324\n",
      "gray_whale                   1123\n",
      "southern_right_whale          866\n",
      "short_finned_pilot_whale      745\n",
      "spotted_dolphin               490\n",
      "sei_whale                     428\n",
      "common_dolphin                347\n",
      "cuviers_beaked_whale          341\n",
      "Name: species, dtype: int64\n"
     ]
    }
   ],
   "source": [
    "test = df['species'].value_counts()\n",
    "print(test)"
   ]
  },
  {
   "cell_type": "code",
   "execution_count": null,
   "metadata": {},
   "outputs": [],
   "source": []
  },
  {
   "cell_type": "code",
   "execution_count": 23,
   "metadata": {},
   "outputs": [
    {
     "name": "stdout",
     "output_type": "stream",
     "text": [
      "whale      25355\n",
      "dolphin    24672\n",
      "Name: whale_dolphin, dtype: int64\n"
     ]
    }
   ],
   "source": [
    "test = df['whale_dolphin'].value_counts()\n",
    "print(test)"
   ]
  },
  {
   "cell_type": "code",
   "execution_count": null,
   "metadata": {},
   "outputs": [],
   "source": []
  },
  {
   "cell_type": "code",
   "execution_count": 24,
   "metadata": {},
   "outputs": [
    {
     "name": "stdout",
     "output_type": "stream",
     "text": [
      "['melon_headed_whale' 'humpback_whale' 'false_killer_whale'\n",
      " 'bottlenose_dolphin' 'beluga' 'minke_whale' 'fin_whale' 'blue_whale'\n",
      " 'gray_whale' 'southern_right_whale' 'common_dolphin' 'killer_whale'\n",
      " 'short_finned_pilot_whale' 'dusky_dolphin' 'sei_whale' 'spinner_dolphin'\n",
      " 'cuviers_beaked_whale' 'spotted_dolphin']\n"
     ]
    }
   ],
   "source": [
    "print(pd.unique(df['species']))"
   ]
  },
  {
   "cell_type": "code",
   "execution_count": null,
   "metadata": {},
   "outputs": [],
   "source": []
  },
  {
   "cell_type": "code",
   "execution_count": 25,
   "metadata": {},
   "outputs": [
    {
     "data": {
      "text/html": [
       "<div>\n",
       "<style scoped>\n",
       "    .dataframe tbody tr th:only-of-type {\n",
       "        vertical-align: middle;\n",
       "    }\n",
       "\n",
       "    .dataframe tbody tr th {\n",
       "        vertical-align: top;\n",
       "    }\n",
       "\n",
       "    .dataframe thead th {\n",
       "        text-align: right;\n",
       "    }\n",
       "</style>\n",
       "<table border=\"1\" class=\"dataframe\">\n",
       "  <thead>\n",
       "    <tr style=\"text-align: right;\">\n",
       "      <th></th>\n",
       "      <th>image</th>\n",
       "      <th>species</th>\n",
       "      <th>individual_id</th>\n",
       "      <th>whale_dolphin</th>\n",
       "    </tr>\n",
       "  </thead>\n",
       "  <tbody>\n",
       "    <tr>\n",
       "      <th>0</th>\n",
       "      <td>00021adfb725ed.jpg</td>\n",
       "      <td>melon_headed_whale</td>\n",
       "      <td>cadddb1636b9</td>\n",
       "      <td>dolphin</td>\n",
       "    </tr>\n",
       "    <tr>\n",
       "      <th>1</th>\n",
       "      <td>000562241d384d.jpg</td>\n",
       "      <td>humpback_whale</td>\n",
       "      <td>1a71fbb72250</td>\n",
       "      <td>whale</td>\n",
       "    </tr>\n",
       "    <tr>\n",
       "      <th>2</th>\n",
       "      <td>0007c33415ce37.jpg</td>\n",
       "      <td>false_killer_whale</td>\n",
       "      <td>60008f293a2b</td>\n",
       "      <td>dolphin</td>\n",
       "    </tr>\n",
       "    <tr>\n",
       "      <th>3</th>\n",
       "      <td>0007d9bca26a99.jpg</td>\n",
       "      <td>bottlenose_dolphin</td>\n",
       "      <td>4b00fe572063</td>\n",
       "      <td>dolphin</td>\n",
       "    </tr>\n",
       "    <tr>\n",
       "      <th>4</th>\n",
       "      <td>00087baf5cef7a.jpg</td>\n",
       "      <td>humpback_whale</td>\n",
       "      <td>8e5253662392</td>\n",
       "      <td>whale</td>\n",
       "    </tr>\n",
       "  </tbody>\n",
       "</table>\n",
       "</div>"
      ],
      "text/plain": [
       "                image             species individual_id whale_dolphin\n",
       "0  00021adfb725ed.jpg  melon_headed_whale  cadddb1636b9       dolphin\n",
       "1  000562241d384d.jpg      humpback_whale  1a71fbb72250         whale\n",
       "2  0007c33415ce37.jpg  false_killer_whale  60008f293a2b       dolphin\n",
       "3  0007d9bca26a99.jpg  bottlenose_dolphin  4b00fe572063       dolphin\n",
       "4  00087baf5cef7a.jpg      humpback_whale  8e5253662392         whale"
      ]
     },
     "execution_count": 25,
     "metadata": {},
     "output_type": "execute_result"
    }
   ],
   "source": [
    "df.head()"
   ]
  },
  {
   "cell_type": "code",
   "execution_count": 26,
   "metadata": {},
   "outputs": [
    {
     "data": {
      "text/plain": [
       "<AxesSubplot:xlabel='count', ylabel='whale_dolphin'>"
      ]
     },
     "execution_count": 26,
     "metadata": {},
     "output_type": "execute_result"
    },
    {
     "data": {
      "image/png": "[encoded data removed]",
      "text/plain": [
       "<Figure size 576x432 with 1 Axes>"
      ]
     },
     "metadata": {},
     "output_type": "display_data"
    }
   ],
   "source": [
    "plt.figure(figsize = (8,6))\n",
    "sb.countplot(y = 'whale_dolphin', data = df, orient = \"h\")"
   ]
  },
  {
   "cell_type": "code",
   "execution_count": 27,
   "metadata": {},
   "outputs": [],
   "source": [
    "values = [\"dolphin\"]\n",
    "\n",
    "#drop rows that contain any value in the list\n",
    "df1 = df[df.whale_dolphin.isin(values) == False]\n"
   ]
  },
  {
   "cell_type": "code",
   "execution_count": 28,
   "metadata": {},
   "outputs": [
    {
     "data": {
      "text/plain": [
       "<AxesSubplot:xlabel='count', ylabel='species'>"
      ]
     },
     "execution_count": 28,
     "metadata": {},
     "output_type": "execute_result"
    },
    {
     "data": {
      "image/png": "[encoded data removed]",
      "text/plain": [
       "<Figure size 720x432 with 1 Axes>"
      ]
     },
     "metadata": {},
     "output_type": "display_data"
    }
   ],
   "source": [
    "plt.figure(figsize = (10,6))\n",
    "sb.countplot(y = 'species', data = df1, orient = \"h\")"
   ]
  },
  {
   "cell_type": "code",
   "execution_count": 29,
   "metadata": {},
   "outputs": [
    {
     "name": "stdout",
     "output_type": "stream",
     "text": [
      "beluga                  7443\n",
      "humpback_whale          7392\n",
      "blue_whale              4830\n",
      "minke_whale             1608\n",
      "fin_whale               1324\n",
      "gray_whale              1123\n",
      "southern_right_whale     866\n",
      "sei_whale                428\n",
      "cuviers_beaked_whale     341\n",
      "Name: species, dtype: int64\n"
     ]
    }
   ],
   "source": [
    "test = df1['species'].value_counts()\n",
    "print(test)"
   ]
  },
  {
   "cell_type": "code",
   "execution_count": 30,
   "metadata": {},
   "outputs": [],
   "source": [
    "values = [\"whale\"]\n",
    "\n",
    "#drop rows that contain any value in the list\n",
    "df2 = df[df.whale_dolphin.isin(values) == False]"
   ]
  },
  {
   "cell_type": "code",
   "execution_count": 31,
   "metadata": {},
   "outputs": [
    {
     "name": "stdout",
     "output_type": "stream",
     "text": [
      "bottlenose_dolphin          10781\n",
      "false_killer_whale           3326\n",
      "dusky_dolphin                3139\n",
      "killer_whale                 2455\n",
      "spinner_dolphin              1700\n",
      "melon_headed_whale           1689\n",
      "short_finned_pilot_whale      745\n",
      "spotted_dolphin               490\n",
      "common_dolphin                347\n",
      "Name: species, dtype: int64\n"
     ]
    }
   ],
   "source": [
    "test = df2['species'].value_counts()\n",
    "print(test)"
   ]
  },
  {
   "cell_type": "markdown",
   "metadata": {},
   "source": [
    "bottlenose_dolphin          10781\n",
    "false_killer_whale           3326\n",
    "dusky_dolphin                3139\n",
    "\n",
    "beluga                  7443\n",
    "humpback_whale          7392\n",
    "blue_whale              4830"
   ]
  },
  {
   "cell_type": "code",
   "execution_count": 32,
   "metadata": {},
   "outputs": [],
   "source": [
    "values = [\"bottlenose_dolphin\", \"false_killer_whale\", \"dusky_dolphin\", \"beluga\", \"humpback_whale\", \"blue_whale\"]\n",
    "\n",
    "Selected = data[data.species.isin(values) == True]"
   ]
  },
  {
   "cell_type": "code",
   "execution_count": 33,
   "metadata": {},
   "outputs": [
    {
     "data": {
      "text/html": [
       "<div>\n",
       "<style scoped>\n",
       "    .dataframe tbody tr th:only-of-type {\n",
       "        vertical-align: middle;\n",
       "    }\n",
       "\n",
       "    .dataframe tbody tr th {\n",
       "        vertical-align: top;\n",
       "    }\n",
       "\n",
       "    .dataframe thead th {\n",
       "        text-align: right;\n",
       "    }\n",
       "</style>\n",
       "<table border=\"1\" class=\"dataframe\">\n",
       "  <thead>\n",
       "    <tr style=\"text-align: right;\">\n",
       "      <th></th>\n",
       "      <th>image</th>\n",
       "      <th>species</th>\n",
       "      <th>individual_id</th>\n",
       "      <th>whale_dolphin</th>\n",
       "    </tr>\n",
       "  </thead>\n",
       "  <tbody>\n",
       "    <tr>\n",
       "      <th>1</th>\n",
       "      <td>000562241d384d.jpg</td>\n",
       "      <td>humpback_whale</td>\n",
       "      <td>1a71fbb72250</td>\n",
       "      <td>whale</td>\n",
       "    </tr>\n",
       "    <tr>\n",
       "      <th>2</th>\n",
       "      <td>0007c33415ce37.jpg</td>\n",
       "      <td>false_killer_whale</td>\n",
       "      <td>60008f293a2b</td>\n",
       "      <td>dolphin</td>\n",
       "    </tr>\n",
       "    <tr>\n",
       "      <th>3</th>\n",
       "      <td>0007d9bca26a99.jpg</td>\n",
       "      <td>bottlenose_dolphin</td>\n",
       "      <td>4b00fe572063</td>\n",
       "      <td>dolphin</td>\n",
       "    </tr>\n",
       "    <tr>\n",
       "      <th>4</th>\n",
       "      <td>00087baf5cef7a.jpg</td>\n",
       "      <td>humpback_whale</td>\n",
       "      <td>8e5253662392</td>\n",
       "      <td>whale</td>\n",
       "    </tr>\n",
       "    <tr>\n",
       "      <th>5</th>\n",
       "      <td>000a8f2d5c316a.jpg</td>\n",
       "      <td>bottlenose_dolphin</td>\n",
       "      <td>b9907151f66e</td>\n",
       "      <td>dolphin</td>\n",
       "    </tr>\n",
       "  </tbody>\n",
       "</table>\n",
       "</div>"
      ],
      "text/plain": [
       "                image             species individual_id whale_dolphin\n",
       "1  000562241d384d.jpg      humpback_whale  1a71fbb72250         whale\n",
       "2  0007c33415ce37.jpg  false_killer_whale  60008f293a2b       dolphin\n",
       "3  0007d9bca26a99.jpg  bottlenose_dolphin  4b00fe572063       dolphin\n",
       "4  00087baf5cef7a.jpg      humpback_whale  8e5253662392         whale\n",
       "5  000a8f2d5c316a.jpg  bottlenose_dolphin  b9907151f66e       dolphin"
      ]
     },
     "execution_count": 33,
     "metadata": {},
     "output_type": "execute_result"
    }
   ],
   "source": [
    "Selected.head()"
   ]
  },
  {
   "attachments": {},
   "cell_type": "markdown",
   "metadata": {},
   "source": [
    "To circumvent some of the most challenging aspects of the dataset; mainly size and class imbalance, we have chosen to reduce our dataset to contain the 3 most common species of whales and dolphins, with a randomly sampled 500 images for each. This significantly reduces the overall size of the dataset, and reduce processing time for our model. "
   ]
  },
  {
   "cell_type": "code",
   "execution_count": 34,
   "metadata": {},
   "outputs": [],
   "source": [
    "values = [\"bottlenose_dolphin\"]\n",
    "bottlenose_dolphin = data[data.species.isin(values) == True]\n",
    "bottlenose_dolphin = bottlenose_dolphin.sample(n=500, random_state=1)"
   ]
  },
  {
   "cell_type": "code",
   "execution_count": 35,
   "metadata": {},
   "outputs": [],
   "source": [
    "values = [\"false_killer_whale\"]\n",
    "false_killer_whale = data[data.species.isin(values) == True]\n",
    "false_killer_whale = false_killer_whale.sample(n=500, random_state=1)"
   ]
  },
  {
   "cell_type": "code",
   "execution_count": 36,
   "metadata": {},
   "outputs": [],
   "source": [
    "values = [\"dusky_dolphin\"]\n",
    "dusky_dolphin = data[data.species.isin(values) == True]\n",
    "dusky_dolphin = dusky_dolphin.sample(n=500, random_state=1)"
   ]
  },
  {
   "cell_type": "code",
   "execution_count": 37,
   "metadata": {},
   "outputs": [],
   "source": [
    "values = [\"beluga\"]\n",
    "beluga = data[data.species.isin(values) == True]\n",
    "beluga = beluga.sample(n=500, random_state=1)"
   ]
  },
  {
   "cell_type": "code",
   "execution_count": 38,
   "metadata": {},
   "outputs": [],
   "source": [
    "values = [\"humpback_whale\"]\n",
    "humpback_whale = data[data.species.isin(values) == True]\n",
    "humpback_whale = humpback_whale.sample(n=500, random_state=1)"
   ]
  },
  {
   "cell_type": "code",
   "execution_count": 39,
   "metadata": {},
   "outputs": [],
   "source": [
    "values = [\"blue_whale\"]\n",
    "blue_whale = data[data.species.isin(values) == True]\n",
    "blue_whale = blue_whale.sample(n=500, random_state=1)"
   ]
  },
  {
   "cell_type": "code",
   "execution_count": 40,
   "metadata": {},
   "outputs": [],
   "source": [
    "Final = pd.concat([blue_whale, humpback_whale, beluga, dusky_dolphin, false_killer_whale, bottlenose_dolphin])"
   ]
  },
  {
   "cell_type": "code",
   "execution_count": 41,
   "metadata": {},
   "outputs": [
    {
     "data": {
      "text/plain": [
       "<AxesSubplot:xlabel='count', ylabel='species'>"
      ]
     },
     "execution_count": 41,
     "metadata": {},
     "output_type": "execute_result"
    },
    {
     "data": {
      "image/png": "[encoded data removed]",
      "text/plain": [
       "<Figure size 720x432 with 1 Axes>"
      ]
     },
     "metadata": {},
     "output_type": "display_data"
    }
   ],
   "source": [
    "plt.figure(figsize = (10,6))\n",
    "sb.countplot(y = 'species', data = Final, orient = \"h\")"
   ]
  },
  {
   "cell_type": "code",
   "execution_count": 42,
   "metadata": {},
   "outputs": [],
   "source": [
    "Final.to_csv('./final.csv')"
   ]
  }
 ],
 "metadata": {
  "kernelspec": {
   "display_name": "Python 3 (ipykernel)",
   "language": "python",
   "name": "python3"
  },
  "language_info": {
   "codemirror_mode": {
    "name": "ipython",
    "version": 3
   },
   "file_extension": ".py",
   "mimetype": "text/x-python",
   "name": "python",
   "nbconvert_exporter": "python",
   "pygments_lexer": "ipython3",
   "version": "3.9.7"
  }
 },
 "nbformat": 4,
 "nbformat_minor": 2
}
